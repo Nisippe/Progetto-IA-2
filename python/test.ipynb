{
 "cells": [
  {
   "cell_type": "code",
   "execution_count": 12,
   "metadata": {},
   "outputs": [],
   "source": [
    "from transformers import BertForQuestionAnswering, BertTokenizer, AdamW\n",
    "from datasets import load_dataset\n",
    "import torch\n",
    "\n",
    "# Carica il modello preaddestrato e il tokenizzatore di BERT\n",
    "model_name = r\"C:\\Users\\drugo\\Desktop\\PROGETTO-IA-2\\python\\fine_tuned_bert_model\"\n",
    "model = BertForQuestionAnswering.from_pretrained(model_name)\n",
    "tokenizer = BertTokenizer.from_pretrained('bert-large-uncased-whole-word-masking-finetuned-squad')\n",
    "dataset=load_dataset('squad',split='train')\n"
   ]
  },
  {
   "cell_type": "code",
   "execution_count": 13,
   "metadata": {},
   "outputs": [
    {
     "name": "stdout",
     "output_type": "stream",
     "text": [
      "87599\n"
     ]
    }
   ],
   "source": [
    "print(len(dataset))"
   ]
  },
  {
   "cell_type": "code",
   "execution_count": 14,
   "metadata": {},
   "outputs": [
    {
     "name": "stdout",
     "output_type": "stream",
     "text": [
      "{'text': ['$250,000'], 'answer_start': [190]}\n",
      "Risposta predetta: $ 250 , 000\n"
     ]
    }
   ],
   "source": [
    "def predict_answer(question, context):\n",
    "    inputs = tokenizer.encode_plus(question, context, return_tensors='pt', max_length=512, truncation=True)\n",
    "    start_scores, end_scores = model(**inputs).start_logits, model(**inputs).end_logits\n",
    "\n",
    "    start_index = torch.argmax(start_scores)\n",
    "    end_index = torch.argmax(end_scores)\n",
    "\n",
    "    all_tokens = tokenizer.convert_ids_to_tokens(inputs['input_ids'][0])\n",
    "    answer = tokenizer.convert_tokens_to_string(all_tokens[start_index:end_index+1])\n",
    "\n",
    "    return answer\n",
    "\n",
    "# Esempio di utilizzo del modello addestrato per rispondere a una domanda\n",
    "question = dataset['question'][1001]\n",
    "context = dataset['context'][1001]\n",
    "answer = dataset['answers'][1001]\n",
    "predicted_answer = predict_answer(question, context)\n",
    "print(answer)\n",
    "print(\"Risposta predetta:\", predicted_answer)"
   ]
  }
 ],
 "metadata": {
  "kernelspec": {
   "display_name": "Python 3",
   "language": "python",
   "name": "python3"
  },
  "language_info": {
   "codemirror_mode": {
    "name": "ipython",
    "version": 3
   },
   "file_extension": ".py",
   "mimetype": "text/x-python",
   "name": "python",
   "nbconvert_exporter": "python",
   "pygments_lexer": "ipython3",
   "version": "3.11.7"
  }
 },
 "nbformat": 4,
 "nbformat_minor": 2
}
