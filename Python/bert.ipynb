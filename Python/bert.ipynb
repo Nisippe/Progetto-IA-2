{
 "cells": [
  {
   "cell_type": "code",
   "execution_count": null,
   "metadata": {},
   "outputs": [],
   "source": [
    "from transformers import BertForQuestionAnswering, BertTokenizer, AdamW\n",
    "from datasets import load_dataset\n",
    "from tqdm import tqdm\n",
    "import torch\n",
    "\n",
    "\n",
    "model_name = \"deepset/bert-base-cased-squad2\"\n",
    "model = BertForQuestionAnswering.from_pretrained(model_name)\n",
    "tokenizer = BertTokenizer.from_pretrained(model_name)\n",
    "dataset=load_dataset('squad',split='train')\n"
   ]
  },
  {
   "cell_type": "code",
   "execution_count": null,
   "metadata": {},
   "outputs": [],
   "source": [
    "dataset=dataset[:100]\n",
    "print(len(dataset['question']))"
   ]
  },
  {
   "cell_type": "code",
   "execution_count": null,
   "metadata": {},
   "outputs": [],
   "source": [
    "print(dataset)\n",
    "answer_starts=[item['answer_start']for item in dataset['answers']]\n",
    "print(answer_starts)"
   ]
  },
  {
   "cell_type": "code",
   "execution_count": null,
   "metadata": {},
   "outputs": [],
   "source": [
    "\n",
    "train_contexts = dataset['context']\n",
    "train_questions = dataset['question']  \n",
    "train_start_positions = answer_starts \n",
    "\n",
    "\n",
    "inputs = tokenizer(train_questions, train_contexts, return_tensors='pt', padding=True, truncation=True)\n",
    "start_positions = torch.tensor(train_start_positions)\n",
    "\n",
    "\n",
    "optimizer = AdamW(model.parameters(), lr=5e-5)\n",
    "num_epochs = 3\n",
    "batch_size = 10\n",
    "\n",
    "\n",
    "for epoch in range(num_epochs):\n",
    "    for i in tqdm(range(0, len(train_questions), batch_size)):\n",
    "        optimizer.zero_grad()\n",
    "        batch_inputs = {key: val[i:i+batch_size] for key, val in inputs.items()}\n",
    "        outputs = model(**batch_inputs, start_positions=start_positions[i:i+batch_size])\n",
    "\n",
    "\n",
    "\n",
    "\n",
    "model.save_pretrained('fine_tuned_bert_model')"
   ]
  }
 ],
 "metadata": {
  "kernelspec": {
   "display_name": "Python 3",
   "language": "python",
   "name": "python3"
  },
  "language_info": {
   "codemirror_mode": {
    "name": "ipython",
    "version": 3
   },
   "file_extension": ".py",
   "mimetype": "text/x-python",
   "name": "python",
   "nbconvert_exporter": "python",
   "pygments_lexer": "ipython3",
   "version": "3.11.7"
  }
 },
 "nbformat": 4,
 "nbformat_minor": 2
}
