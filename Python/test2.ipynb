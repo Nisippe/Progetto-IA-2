{
 "cells": [
  {
   "cell_type": "code",
   "execution_count": 1,
   "metadata": {},
   "outputs": [],
   "source": [
    "from transformers import GPT2ForQuestionAnswering, GPT2Tokenizer, AdamW\n",
    "from datasets import load_dataset\n",
    "from tqdm import tqdm\n",
    "import torch\n",
    "\n",
    "model = GPT2ForQuestionAnswering.from_pretrained('aman-mehra/gpt2-large-finetune-squad-ep-2.0-lr-2e-06-wd-0.01')\n",
    "tokenizer = GPT2Tokenizer.from_pretrained('aman-mehra/gpt2-large-finetune-squad-ep-2.0-lr-2e-06-wd-0.01')\n",
    "dataset=load_dataset('squad',split='train')"
   ]
  },
  {
   "cell_type": "code",
   "execution_count": 2,
   "metadata": {},
   "outputs": [],
   "source": [
    "def predict_answer(question, context):\n",
    "    inputs = tokenizer(question, context, return_tensors=\"pt\")\n",
    "    with torch.no_grad():\n",
    "        outputs = model(**inputs)\n",
    "\n",
    "    answer_start_index = outputs.start_logits.argmax()\n",
    "    answer_end_index = outputs.end_logits.argmax()\n",
    "\n",
    "    predict_answer_tokens = inputs.input_ids[0, answer_start_index : answer_end_index + 1]\n",
    "    \n",
    "    return tokenizer.decode(predict_answer_tokens)"
   ]
  },
  {
   "cell_type": "code",
   "execution_count": 3,
   "metadata": {},
   "outputs": [
    {
     "name": "stdout",
     "output_type": "stream",
     "text": [
      "10000\n"
     ]
    },
    {
     "name": "stderr",
     "output_type": "stream",
     "text": [
      "100%|██████████| 10000/10000 [6:26:02<00:00,  2.32s/it]  \n"
     ]
    }
   ],
   "source": [
    "answer = dataset['answers']\n",
    "answer=answer[30000:40000]\n",
    "print(len(answer))\n",
    "lista_answer=[e['text']for e in answer]\n",
    "lista_predicted=[]\n",
    "for i in tqdm(range(30000,40000)):\n",
    "    lista_predicted.append(predict_answer(dataset['question'][i], dataset['context'][i]))\n"
   ]
  },
  {
   "cell_type": "code",
   "execution_count": 4,
   "metadata": {},
   "outputs": [
    {
     "name": "stdout",
     "output_type": "stream",
     "text": [
      "WARNING:tensorflow:From C:\\Users\\drugo\\AppData\\Local\\Packages\\PythonSoftwareFoundation.Python.3.11_qbz5n2kfra8p0\\LocalCache\\local-packages\\Python311\\site-packages\\keras\\src\\losses.py:2976: The name tf.losses.sparse_softmax_cross_entropy is deprecated. Please use tf.compat.v1.losses.sparse_softmax_cross_entropy instead.\n",
      "\n",
      "{'rouge1': 0.7901998995327322, 'rouge2': 0.493331788506298, 'rougeL': 0.7898030470793811, 'rougeLsum': 0.7896041172500119}\n"
     ]
    }
   ],
   "source": [
    "import evaluate\n",
    "rouge=evaluate.load('rouge')\n",
    "predictions=lista_predicted\n",
    "references=lista_answer\n",
    "results=rouge.compute(predictions=predictions,references=references)\n",
    "print(results)"
   ]
  }
 ],
 "metadata": {
  "kernelspec": {
   "display_name": "Python 3",
   "language": "python",
   "name": "python3"
  },
  "language_info": {
   "codemirror_mode": {
    "name": "ipython",
    "version": 3
   },
   "file_extension": ".py",
   "mimetype": "text/x-python",
   "name": "python",
   "nbconvert_exporter": "python",
   "pygments_lexer": "ipython3",
   "version": "3.11.7"
  }
 },
 "nbformat": 4,
 "nbformat_minor": 2
}
