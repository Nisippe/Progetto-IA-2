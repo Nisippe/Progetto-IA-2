{
 "cells": [
  {
   "cell_type": "code",
   "execution_count": null,
   "metadata": {},
   "outputs": [],
   "source": [
    "from transformers import BertForQuestionAnswering, BertTokenizer, AdamW\n",
    "from datasets import load_dataset\n",
    "from tqdm import tqdm\n",
    "import torch\n",
    "\n",
    "# Carica il modello preaddestrato e il tokenizzatore di BERT\n",
    "model_name = r\"C:\\Users\\drugo\\Desktop\\PROGETTO-IA-2\\python\\fine_tuned_bert_model\"\n",
    "model = BertForQuestionAnswering.from_pretrained(model_name)\n",
    "tokenizer = BertTokenizer.from_pretrained('deepset/bert-base-cased-squad2')\n",
    "dataset=load_dataset('squad',split='train')\n",
    "\n"
   ]
  },
  {
   "cell_type": "code",
   "execution_count": null,
   "metadata": {},
   "outputs": [],
   "source": [
    "def predict_answer(question, context):\n",
    "    inputs = tokenizer.encode_plus(question, context, return_tensors='pt', max_length=512, truncation=True)\n",
    "    start_scores, end_scores = model(**inputs).start_logits, model(**inputs).end_logits\n",
    "\n",
    "    start_index = torch.argmax(start_scores)\n",
    "    end_index = torch.argmax(end_scores)\n",
    "\n",
    "    all_tokens = tokenizer.convert_ids_to_tokens(inputs['input_ids'][0])\n",
    "    answer = tokenizer.convert_tokens_to_string(all_tokens[start_index:end_index+1])\n",
    "\n",
    "    return answer\n",
    "\n"
   ]
  },
  {
   "cell_type": "code",
   "execution_count": null,
   "metadata": {},
   "outputs": [],
   "source": [
    "answer = dataset['answers']\n",
    "answer=answer[:100]\n",
    "print(len(answer))\n",
    "lista_answer=[e['text']for e in answer]\n",
    "lista_predicted=[]\n",
    "for i in tqdm(range(0,100)):\n",
    "    lista_predicted.append(predict_answer(dataset['question'][i], dataset['context'][i]))\n",
    "\n"
   ]
  },
  {
   "cell_type": "code",
   "execution_count": null,
   "metadata": {},
   "outputs": [],
   "source": [
    "import evaluate\n",
    "rouge=evaluate.load('rouge')\n",
    "predictions=lista_predicted\n",
    "references=lista_answer\n",
    "results=rouge.compute(predictions=predictions,references=references)\n",
    "print(results)"
   ]
  }
 ],
 "metadata": {
  "kernelspec": {
   "display_name": "Python 3",
   "language": "python",
   "name": "python3"
  },
  "language_info": {
   "codemirror_mode": {
    "name": "ipython",
    "version": 3
   },
   "file_extension": ".py",
   "mimetype": "text/x-python",
   "name": "python",
   "nbconvert_exporter": "python",
   "pygments_lexer": "ipython3",
   "version": "3.11.7"
  }
 },
 "nbformat": 4,
 "nbformat_minor": 2
}
